{
 "cells": [
  {
   "cell_type": "code",
   "execution_count": 1,
   "id": "d6b40219-c757-4900-a274-95a8336d79b7",
   "metadata": {
    "vscode": {
     "languageId": "r"
    }
   },
   "outputs": [
    {
     "name": "stdout",
     "output_type": "stream",
     "text": [
      "- The project is out-of-sync -- use `renv::status()` for details.\n",
      "The following package(s) will be installed:\n",
      "- wdman [0.2.6]\n",
      "These packages will be installed into \"~/500GB STORAGE/Coding/Projects/semest-13/renv/library/R-4.3/x86_64-pc-linux-gnu\".\n",
      "\n",
      "# Installing packages --------------------------------------------------------\n",
      "- Installing wdman ...                          OK [linked from cache]\n",
      "Successfully installed 1 package in 4.9 milliseconds.\n",
      "The following package(s) will be installed:\n",
      "- RSelenium [1.7.9]\n",
      "These packages will be installed into \"~/500GB STORAGE/Coding/Projects/semest-13/renv/library/R-4.3/x86_64-pc-linux-gnu\".\n",
      "\n",
      "# Installing packages --------------------------------------------------------\n",
      "- Installing RSelenium ...                      OK [linked from cache]\n",
      "Successfully installed 1 package in 3 milliseconds.\n"
     ]
    }
   ],
   "source": [
    "renv::init()\n",
    "renv::install(\"wdman\")\n",
    "renv::install(\"RSelenium\")"
   ]
  },
  {
   "cell_type": "code",
   "execution_count": 2,
   "id": "a2113fbd",
   "metadata": {
    "vscode": {
     "languageId": "r"
    }
   },
   "outputs": [],
   "source": [
    "port <- 4445L"
   ]
  },
  {
   "cell_type": "code",
   "execution_count": 3,
   "id": "de53b83e-3656-4672-a128-a6f890887933",
   "metadata": {
    "vscode": {
     "languageId": "r"
    }
   },
   "outputs": [],
   "source": [
    "geckodriver <- wdman::selenium(port = port, verbose = FALSE)\n",
    "\n",
    "rem_dr <- RSelenium::remoteDriver(\n",
    "  remoteServerAddr = \"localhost\",\n",
    "  port = port,\n",
    "  browserName = \"firefox\"\n",
    ")"
   ]
  },
  {
   "cell_type": "code",
   "execution_count": 4,
   "id": "a0cd20e6-8f60-4164-85c7-bd6b3305b73d",
   "metadata": {
    "vscode": {
     "languageId": "r"
    }
   },
   "outputs": [
    {
     "name": "stdout",
     "output_type": "stream",
     "text": [
      "[1] \"Connecting to remote server\"\n",
      "$acceptInsecureCerts\n",
      "[1] FALSE\n",
      "\n",
      "$browserName\n",
      "[1] \"firefox\"\n",
      "\n",
      "$browserVersion\n",
      "[1] \"118.0.2\"\n",
      "\n",
      "$`moz:accessibilityChecks`\n",
      "[1] FALSE\n",
      "\n",
      "$`moz:buildID`\n",
      "[1] \"20231009140911\"\n",
      "\n",
      "$`moz:geckodriverVersion`\n",
      "[1] \"0.33.0\"\n",
      "\n",
      "$`moz:headless`\n",
      "[1] FALSE\n",
      "\n",
      "$`moz:platformVersion`\n",
      "[1] \"6.5.4-76060504-generic\"\n",
      "\n",
      "$`moz:processID`\n",
      "[1] 69311\n",
      "\n",
      "$`moz:profile`\n",
      "[1] \"/tmp/rust_mozprofile2SRGQ5\"\n",
      "\n",
      "$`moz:shutdownTimeout`\n",
      "[1] 60000\n",
      "\n",
      "$`moz:webdriverClick`\n",
      "[1] TRUE\n",
      "\n",
      "$`moz:windowless`\n",
      "[1] FALSE\n",
      "\n",
      "$pageLoadStrategy\n",
      "[1] \"normal\"\n",
      "\n",
      "$platformName\n",
      "[1] \"linux\"\n",
      "\n",
      "$proxy\n",
      "named list()\n",
      "\n",
      "$setWindowRect\n",
      "[1] TRUE\n",
      "\n",
      "$strictFileInteractability\n",
      "[1] FALSE\n",
      "\n",
      "$timeouts\n",
      "$timeouts$implicit\n",
      "[1] 0\n",
      "\n",
      "$timeouts$pageLoad\n",
      "[1] 300000\n",
      "\n",
      "$timeouts$script\n",
      "[1] 30000\n",
      "\n",
      "\n",
      "$unhandledPromptBehavior\n",
      "[1] \"dismiss and notify\"\n",
      "\n",
      "$webdriver.remote.sessionid\n",
      "[1] \"8ec6b898-174d-4e83-b3aa-f451053788ba\"\n",
      "\n",
      "$id\n",
      "[1] \"8ec6b898-174d-4e83-b3aa-f451053788ba\"\n",
      "\n"
     ]
    }
   ],
   "source": [
    "rem_dr$open()\n",
    "rem_dr$navigate(\"https://www.imdb.com/\")"
   ]
  },
  {
   "cell_type": "code",
   "execution_count": 5,
   "id": "ee3e1a90",
   "metadata": {
    "vscode": {
     "languageId": "r"
    }
   },
   "outputs": [],
   "source": [
    "file_conn <- file(\"./data/filmes.txt\", open = \"a\")"
   ]
  },
  {
   "cell_type": "code",
   "execution_count": 6,
   "id": "3c89e425-66f2-4423-a9f1-0177caf5b45c",
   "metadata": {
    "vscode": {
     "languageId": "r"
    }
   },
   "outputs": [],
   "source": [
    "series <- c(\"WANDINHA\",\"A CASA DO DRAGÃO\", \"THE BOYS\")\n",
    "\n",
    "header <- c(\"nome\", \"nota\", \"avaliacoes\", \"popularidade\")\n",
    "writeLines(paste(header, collapse = \";\"), file_conn, sep=\"\\n\")\n",
    "\n",
    "for(serie in series) {\n",
    "  pesquisa <- rem_dr$findElement(using = \"xpath\",\"//input[@id=\\\"suggestion-search\\\"]\")\n",
    "  pesquisa$sendKeysToElement(list(serie, key = \"enter\"))\n",
    "  Sys.sleep(2)\n",
    "\n",
    "  resultado_1 <- rem_dr$findElement(using = \"xpath\", \"//*[@id=\\\"__next\\\"]/main/div[2]/div[3]/section/div/div[1]/section[2]/div[2]/ul/li[1]/div[2]/div[1]/a\")\n",
    "  resultado_1$clickElement()\n",
    "  Sys.sleep(2)\n",
    "\n",
    "  nota <- rem_dr$findElement(using = \"css selector\", \".sc-bde20123-1\")\n",
    "  nota <- nota$getElementText()\n",
    "\n",
    "  avaliacoes <- rem_dr$findElement(using = \"css selector\", \".sc-bde20123-3\")\n",
    "  avaliacoes <- avaliacoes$getElementText()\n",
    "\n",
    "  popularidade <- rem_dr$findElement(using = \"css selector\", \".sc-5f7fb5b4-1\")\n",
    "  popularidade <- popularidade$getElementText()\n",
    "\n",
    "  atores_principais <- rem_dr$findElement(using = \"css selector\", \".ipc-metadata-list-item__content-container\")\n",
    "\n",
    "  line <- c(serie, nota, avaliacoes, popularidade)\n",
    "  writeLines(paste(line, collapse = \";\"), file_conn, sep = \"\\n\")\n",
    "\n",
    "  rem_dr$goBack()\n",
    "  rem_dr$goBack()\n",
    "  Sys.sleep(2)\n",
    "}"
   ]
  },
  {
   "cell_type": "code",
   "execution_count": 7,
   "id": "25a9b349",
   "metadata": {
    "vscode": {
     "languageId": "r"
    }
   },
   "outputs": [
    {
     "data": {
      "text/html": [
       "TRUE"
      ],
      "text/latex": [
       "TRUE"
      ],
      "text/markdown": [
       "TRUE"
      ],
      "text/plain": [
       "[1] TRUE"
      ]
     },
     "metadata": {},
     "output_type": "display_data"
    }
   ],
   "source": [
    "rem_dr$close()\n",
    "geckodriver$stop()\n",
    "close(file_conn)"
   ]
  }
 ],
 "metadata": {
  "kernelspec": {
   "display_name": "R",
   "language": "R",
   "name": "ir"
  },
  "language_info": {
   "codemirror_mode": "r",
   "file_extension": ".r",
   "mimetype": "text/x-r-source",
   "name": "R",
   "pygments_lexer": "r",
   "version": "4.3.1"
  }
 },
 "nbformat": 4,
 "nbformat_minor": 5
}
