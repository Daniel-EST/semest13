{
 "cells": [
  {
   "cell_type": "code",
   "execution_count": null,
   "id": "d6b40219-c757-4900-a274-95a8336d79b7",
   "metadata": {
    "vscode": {
     "languageId": "r"
    }
   },
   "outputs": [],
   "source": [
    "renv::init()\n",
    "# renv::install(\"wdman\")\n",
    "# renv::install(\"RSelenium\")"
   ]
  },
  {
   "cell_type": "code",
   "execution_count": null,
   "id": "a2113fbd",
   "metadata": {
    "vscode": {
     "languageId": "r"
    }
   },
   "outputs": [],
   "source": [
    "PORT = 4445L"
   ]
  },
  {
   "cell_type": "code",
   "execution_count": null,
   "id": "de53b83e-3656-4672-a128-a6f890887933",
   "metadata": {
    "vscode": {
     "languageId": "r"
    }
   },
   "outputs": [],
   "source": [
    "geckodriver = wdman::selenium(port=PORT, verbose=FALSE)\n",
    "\n",
    "remDr = RSelenium::remoteDriver(\n",
    "  remoteServerAddr = \"localhost\",\n",
    "  port = PORT,\n",
    "  browserName = \"firefox\"\n",
    ")"
   ]
  },
  {
   "cell_type": "code",
   "execution_count": null,
   "id": "a0cd20e6-8f60-4164-85c7-bd6b3305b73d",
   "metadata": {
    "vscode": {
     "languageId": "r"
    }
   },
   "outputs": [],
   "source": [
    "remDr$open()\n",
    "remDr$navigate(\"https://www.imdb.com/\")\n",
    "Sys.sleep(3)"
   ]
  },
  {
   "cell_type": "code",
   "execution_count": null,
   "id": "ee3e1a90",
   "metadata": {
    "vscode": {
     "languageId": "r"
    }
   },
   "outputs": [],
   "source": [
    "file_conn = file(\"./filmes.txt\", open = \"a\")"
   ]
  },
  {
   "cell_type": "code",
   "execution_count": null,
   "id": "3c89e425-66f2-4423-a9f1-0177caf5b45c",
   "metadata": {
    "vscode": {
     "languageId": "r"
    }
   },
   "outputs": [],
   "source": [
    "series = c(\"WANDINHA\",\"A CASA DO DRAGÃO\", \"THE BOYS\")\n",
    "\n",
    "header = c(\"nome\", \"nota\", \"avaliacoes\", \"popularidade\")\n",
    "writeLines(paste(header, collapse = \";\"), file_conn, sep=\"\\n\")\n",
    "\n",
    "for(serie in series)\n",
    "{\n",
    "    pesquisa = remDr$findElement(using=\"xpath\",\"//input[@id=\\\"suggestion-search\\\"]\")\n",
    "    pesquisa$sendKeysToElement(list(serie, key = \"enter\"))\n",
    "    Sys.sleep(2)\n",
    "\n",
    "    resultado_1 = remDr$findElement(using=\"xpath\", \"//*[@id=\\\"__next\\\"]/main/div[2]/div[3]/section/div/div[1]/section[2]/div[2]/ul/li[1]/div[2]/div[1]/a\")\n",
    "    resultado_1$clickElement()\n",
    "    Sys.sleep(2)\n",
    "    \n",
    "    nota = remDr$findElement(using=\"css selector\", \".sc-bde20123-1\")\n",
    "    nota = nota$getElementText()\n",
    "\n",
    "    avaliacoes = remDr$findElement(using=\"css selector\", \".sc-bde20123-3\")\n",
    "    avaliacoes = avaliacoes$getElementText()\n",
    "\n",
    "    popularidade = remDr$findElement(using=\"css selector\", \".sc-5f7fb5b4-1\")\n",
    "    popularidade = popularidade$getElementText()\n",
    "    \n",
    "    atores_principais = remDr$findElement(using=\"css selector\", \".ipc-metadata-list-item__content-container\")\n",
    "\n",
    "    line = c(serie, nota, avaliacoes, popularidade)\n",
    "    writeLines(paste(line, collapse = \";\"), file_conn, sep=\"\\n\")\n",
    "    # atoresPrincipais = ''.join(list(map(lambda x: x.text+',',atoresPrincipais)))    \n",
    "\n",
    "    #criadores = remDr$findElement(using=\"xpath\", \"//*[@id=\\\"__next\\\"]/main/div/section[1]/section/div[3]/section/section/div[3]/div[2]/div[1]/div[3]/ul/li[1]/div/ul/li\")\n",
    "    # criadores = ''.join(list(map(lambda x: x.text+',',criadores)))\n",
    "    # criadores\n",
    "\n",
    "    # print(serie, nota, avaliacoes, popularidade, atoresPrincipais, criadores)\n",
    "    remDr$goBack()\n",
    "    remDr$goBack()\n",
    "}   "
   ]
  },
  {
   "cell_type": "code",
   "execution_count": null,
   "id": "25a9b349",
   "metadata": {
    "vscode": {
     "languageId": "r"
    }
   },
   "outputs": [],
   "source": [
    "remDr$close()\n",
    "geckodriver$stop()\n",
    "close(file_conn)"
   ]
  },
  {
   "cell_type": "code",
   "execution_count": null,
   "id": "4f1923b1-193b-4bab-8f83-94b68c451d91",
   "metadata": {},
   "outputs": [],
   "source": []
  }
 ],
 "metadata": {
  "kernelspec": {
   "display_name": "R",
   "language": "R",
   "name": "ir"
  },
  "language_info": {
   "codemirror_mode": "r",
   "file_extension": ".r",
   "mimetype": "text/x-r-source",
   "name": "R",
   "pygments_lexer": "r",
   "version": "4.1.2"
  }
 },
 "nbformat": 4,
 "nbformat_minor": 5
}
