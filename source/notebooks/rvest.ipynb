{
 "cells": [
  {
   "cell_type": "markdown",
   "id": "79cd07a5",
   "metadata": {},
   "source": [
    "# Exemplos `rvest`"
   ]
  },
  {
   "cell_type": "code",
   "execution_count": 1,
   "id": "d6b40219-c757-4900-a274-95a8336d79b7",
   "metadata": {
    "vscode": {
     "languageId": "r"
    }
   },
   "outputs": [
    {
     "name": "stdout",
     "output_type": "stream",
     "text": [
      "- There are no packages to install.\n"
     ]
    }
   ],
   "source": [
    "renv::init()\n",
    "renv::install()"
   ]
  },
  {
   "cell_type": "markdown",
   "id": "8b58f270",
   "metadata": {},
   "source": [
    "## Exemplos de extracão de Top 250 filmes do IMDB (https://www.imdb.com/chart/top)"
   ]
  },
  {
   "cell_type": "code",
   "execution_count": 2,
   "id": "b26e1ab2",
   "metadata": {
    "vscode": {
     "languageId": "r"
    }
   },
   "outputs": [],
   "source": [
    "imdb_url <- \"https://www.imdb.com/\"\n",
    "top_250_url <- \"chart/top\"\n",
    "\n",
    "top_250_html <- rvest::read_html(paste0(imdb_url, top_250_url))"
   ]
  },
  {
   "cell_type": "code",
   "execution_count": 3,
   "id": "debd3b37",
   "metadata": {
    "vscode": {
     "languageId": "r"
    }
   },
   "outputs": [
    {
     "data": {
      "text/html": [
       "<style>\n",
       ".list-inline {list-style: none; margin:0; padding: 0}\n",
       ".list-inline>li {display: inline-block}\n",
       ".list-inline>li:not(:last-child)::after {content: \"\\00b7\"; padding: 0 .5ex}\n",
       "</style>\n",
       "<ol class=list-inline><li>'/title/tt0111161/?ref_=chttp_t_1'</li><li>'/title/tt0068646/?ref_=chttp_t_2'</li><li>'/title/tt0468569/?ref_=chttp_t_3'</li><li>'/title/tt0071562/?ref_=chttp_t_4'</li><li>'/title/tt0050083/?ref_=chttp_t_5'</li></ol>\n"
      ],
      "text/latex": [
       "\\begin{enumerate*}\n",
       "\\item '/title/tt0111161/?ref\\_=chttp\\_t\\_1'\n",
       "\\item '/title/tt0068646/?ref\\_=chttp\\_t\\_2'\n",
       "\\item '/title/tt0468569/?ref\\_=chttp\\_t\\_3'\n",
       "\\item '/title/tt0071562/?ref\\_=chttp\\_t\\_4'\n",
       "\\item '/title/tt0050083/?ref\\_=chttp\\_t\\_5'\n",
       "\\end{enumerate*}\n"
      ],
      "text/markdown": [
       "1. '/title/tt0111161/?ref_=chttp_t_1'\n",
       "2. '/title/tt0068646/?ref_=chttp_t_2'\n",
       "3. '/title/tt0468569/?ref_=chttp_t_3'\n",
       "4. '/title/tt0071562/?ref_=chttp_t_4'\n",
       "5. '/title/tt0050083/?ref_=chttp_t_5'\n",
       "\n",
       "\n"
      ],
      "text/plain": [
       "[1] \"/title/tt0111161/?ref_=chttp_t_1\" \"/title/tt0068646/?ref_=chttp_t_2\"\n",
       "[3] \"/title/tt0468569/?ref_=chttp_t_3\" \"/title/tt0071562/?ref_=chttp_t_4\"\n",
       "[5] \"/title/tt0050083/?ref_=chttp_t_5\""
      ]
     },
     "metadata": {},
     "output_type": "display_data"
    }
   ],
   "source": [
    "movie_urls <- top_250_html |>\n",
    "  rvest::html_nodes(\".cli-children a\") |>\n",
    "  rvest::html_attr(\"href\")\n",
    "\n",
    "movie_urls[1:5]"
   ]
  },
  {
   "cell_type": "code",
   "execution_count": 4,
   "id": "13e83491",
   "metadata": {
    "vscode": {
     "languageId": "r"
    }
   },
   "outputs": [],
   "source": [
    "file_conn <- file(\"../../data/rvest/top_250_filmes.txt\", open = \"a\")"
   ]
  },
  {
   "cell_type": "code",
   "execution_count": 5,
   "id": "876c859f",
   "metadata": {
    "vscode": {
     "languageId": "r"
    }
   },
   "outputs": [],
   "source": [
    "header <- c(\"title\", \"rating\", \"score\", \"director\")\n",
    "writeLines(paste(header, collapse = \";\"), file_conn, sep = \"\\n\")\n",
    "\n",
    "for (movie_url in movie_urls) {\n",
    "  movie_html <- rvest::read_html(paste0(imdb_url, movie_url))\n",
    "\n",
    "  title <- movie_html |>\n",
    "    rvest::html_nodes(\"h1\") |>\n",
    "    rvest::html_text()\n",
    "\n",
    "  rating <- movie_html |>\n",
    "    rvest::html_nodes(\"h1\") |>\n",
    "    rvest::html_text()\n",
    "\n",
    "  score <- movie_html |>\n",
    "    rvest::html_nodes(\"h1\") |>\n",
    "    rvest::html_text()\n",
    "\n",
    "  director <- movie_html |>\n",
    "    rvest::html_nodes(\"h1\") |>\n",
    "    rvest::html_text()\n",
    "\n",
    "  line <- c(title, rating, score, director)\n",
    "  writeLines(paste(line, collapse = \";\"), file_conn, sep = \"\\n\")\n",
    "  Sys.sleep(1)\n",
    "}"
   ]
  },
  {
   "cell_type": "code",
   "execution_count": 6,
   "id": "43a9e799",
   "metadata": {
    "vscode": {
     "languageId": "r"
    }
   },
   "outputs": [],
   "source": [
    "close(file_conn)"
   ]
  },
  {
   "cell_type": "markdown",
   "id": "2e3af9aa",
   "metadata": {},
   "source": [
    "## Exemplos de extracão de citacões (https://quotes.toscrape.com/)"
   ]
  },
  {
   "cell_type": "markdown",
   "id": "5824afb3",
   "metadata": {},
   "source": [
    "Utilizar o `rvest` para relizar a requisicão e capturar o `html` da página"
   ]
  },
  {
   "cell_type": "code",
   "execution_count": 7,
   "id": "fb7397ab",
   "metadata": {
    "vscode": {
     "languageId": "r"
    }
   },
   "outputs": [],
   "source": [
    "html <- rvest::read_html(\"https://quotes.toscrape.com/\")"
   ]
  },
  {
   "cell_type": "code",
   "execution_count": 8,
   "id": "1f25d5a2",
   "metadata": {
    "vscode": {
     "languageId": "r"
    }
   },
   "outputs": [
    {
     "data": {
      "text/html": [
       "<style>\n",
       ".list-inline {list-style: none; margin:0; padding: 0}\n",
       ".list-inline>li {display: inline-block}\n",
       ".list-inline>li:not(:last-child)::after {content: \"\\00b7\"; padding: 0 .5ex}\n",
       "</style>\n",
       "<ol class=list-inline><li>'“The world as we have created it is a process of our thinking. It cannot be changed without changing our thinking.”'</li><li>'“It is our choices, Harry, that show what we truly are, far more than our abilities.”'</li></ol>\n"
      ],
      "text/latex": [
       "\\begin{enumerate*}\n",
       "\\item '“The world as we have created it is a process of our thinking. It cannot be changed without changing our thinking.”'\n",
       "\\item '“It is our choices, Harry, that show what we truly are, far more than our abilities.”'\n",
       "\\end{enumerate*}\n"
      ],
      "text/markdown": [
       "1. '“The world as we have created it is a process of our thinking. It cannot be changed without changing our thinking.”'\n",
       "2. '“It is our choices, Harry, that show what we truly are, far more than our abilities.”'\n",
       "\n",
       "\n"
      ],
      "text/plain": [
       "[1] \"“The world as we have created it is a process of our thinking. It cannot be changed without changing our thinking.”\"\n",
       "[2] \"“It is our choices, Harry, that show what we truly are, far more than our abilities.”\"                              "
      ]
     },
     "metadata": {},
     "output_type": "display_data"
    }
   ],
   "source": [
    "quotes <- html |> \n",
    "  rvest::html_nodes(\".text\") |>\n",
    "  rvest::html_text()\n",
    "\n",
    "quotes[1:2]"
   ]
  },
  {
   "cell_type": "markdown",
   "id": "8e822b2c",
   "metadata": {},
   "source": [
    "Abrindo uma conexão de arquivo para salvar os resultados"
   ]
  },
  {
   "cell_type": "code",
   "execution_count": 9,
   "id": "68edeb26",
   "metadata": {
    "vscode": {
     "languageId": "r"
    }
   },
   "outputs": [],
   "source": [
    "file_conn <- file(\"../../data/rvest/citacoes_10_paginas.txt\", open = \"a\")"
   ]
  },
  {
   "cell_type": "code",
   "execution_count": 10,
   "id": "87ef2fcb",
   "metadata": {
    "vscode": {
     "languageId": "r"
    }
   },
   "outputs": [],
   "source": [
    "# Padrão de url das citacões\n",
    "url_pattern <- \"https://quotes.toscrape.com/page/%d\"\n",
    "urls <- sprintf(url_pattern, 1:10)\n",
    "\n",
    "# Criando `header` do arquivo csv\n",
    "header <- c(\"author\", \"quote\")\n",
    "writeLines(paste(header, collapse = \";\"), file_conn, sep = \"\\n\")\n",
    "\n",
    "for(url in urls) {\n",
    "  # Requisicão do html\n",
    "  html <- rvest::read_html(url)\n",
    "\n",
    "  authors <- html |>\n",
    "    rvest::html_nodes(\".author\") |>\n",
    "    rvest::html_text()\n",
    "\n",
    "  quotes <- html |>\n",
    "    rvest::html_nodes(\".text\") |>\n",
    "    rvest::html_text()\n",
    "\n",
    "  writeLines(paste0(authors, \";\", quotes, collapse = \"\\n\"), file_conn, sep = \"\")\n",
    "  Sys.sleep(1)\n",
    "}"
   ]
  },
  {
   "cell_type": "markdown",
   "id": "50fd5f52",
   "metadata": {},
   "source": [
    "Fechar arquivo"
   ]
  },
  {
   "cell_type": "code",
   "execution_count": 11,
   "id": "d6e73dfb",
   "metadata": {
    "vscode": {
     "languageId": "r"
    }
   },
   "outputs": [],
   "source": [
    "close(file_conn)"
   ]
  },
  {
   "cell_type": "markdown",
   "id": "fc6fcbc8",
   "metadata": {},
   "source": [
    "## Exemplos de extracão de citacões com preenchimento de formulário (https://quotes.toscrape.com/search.aspx)"
   ]
  },
  {
   "cell_type": "markdown",
   "id": "2fc99978",
   "metadata": {},
   "source": [
    "##### Exemplo único"
   ]
  },
  {
   "cell_type": "code",
   "execution_count": 12,
   "id": "720333ab",
   "metadata": {
    "vscode": {
     "languageId": "r"
    }
   },
   "outputs": [],
   "source": [
    "html <- rvest::read_html(\"https://quotes.toscrape.com/search.aspx\")\n",
    "\n",
    "hidden_inputs <- html |>\n",
    "  rvest::html_nodes(\"input[type='hidden']\") |>\n",
    "  (\\(x) setNames(\n",
    "    rvest::html_attr(x, \"value\"),\n",
    "    rvest::html_attr(x, \"name\")\n",
    "  ))()\n",
    "\n",
    "response <- httr::POST(\n",
    "  url = \"https://quotes.toscrape.com/filter.aspx\",\n",
    "  httr::add_headers(\n",
    "    `Content-Type` = \"application/x-www-form-urlencoded\"\n",
    "  ),\n",
    "  body = list(\n",
    "    author = \"Haruki Murakami\",\n",
    "    tag = \"thought\",\n",
    "    `__VIEWSTATE` = hidden_inputs[\"__VIEWSTATE\"]\n",
    "  ),\n",
    "  encode = \"form\"\n",
    ")"
   ]
  },
  {
   "cell_type": "code",
   "execution_count": 13,
   "id": "e95843ea",
   "metadata": {
    "vscode": {
     "languageId": "r"
    }
   },
   "outputs": [
    {
     "data": {
      "text/html": [
       "'“If you only read the books that everyone else is reading, you can only think what everyone else is thinking.”'"
      ],
      "text/latex": [
       "'“If you only read the books that everyone else is reading, you can only think what everyone else is thinking.”'"
      ],
      "text/markdown": [
       "'“If you only read the books that everyone else is reading, you can only think what everyone else is thinking.”'"
      ],
      "text/plain": [
       "[1] \"“If you only read the books that everyone else is reading, you can only think what everyone else is thinking.”\""
      ]
     },
     "metadata": {},
     "output_type": "display_data"
    }
   ],
   "source": [
    "quotes <- response |>\n",
    "  rvest::read_html() |>\n",
    "  rvest::html_nodes(\".quote .content\") |>\n",
    "  rvest::html_text()\n",
    "\n",
    "quotes"
   ]
  },
  {
   "cell_type": "markdown",
   "id": "7ed8575e",
   "metadata": {},
   "source": [
    "##### Exemplo vários"
   ]
  },
  {
   "cell_type": "code",
   "execution_count": 14,
   "id": "72fac314",
   "metadata": {
    "vscode": {
     "languageId": "r"
    }
   },
   "outputs": [],
   "source": [
    "html <- rvest::read_html(\"https://quotes.toscrape.com/search.aspx\")\n",
    "\n",
    "authors <- html |>\n",
    "  rvest::html_nodes(\"#author option\") |>\n",
    "  rvest::html_attr(\"value\")\n",
    "\n",
    "authors <- Filter(\\(x) !is.na(x), authors)\n",
    "\n",
    "hidden_inputs <- html |>\n",
    "  rvest::html_nodes(\"input[type='hidden']\") |>\n",
    "  (\\(x) setNames(\n",
    "    rvest::html_attr(x, \"value\"),\n",
    "    rvest::html_attr(x, \"name\")\n",
    "  ))()"
   ]
  },
  {
   "cell_type": "code",
   "execution_count": 15,
   "id": "292ca226",
   "metadata": {
    "vscode": {
     "languageId": "r"
    }
   },
   "outputs": [],
   "source": [
    "file_conn <- file(\"../../data/rvest/citacoes_filtro.txt\", open = \"a\")"
   ]
  },
  {
   "cell_type": "code",
   "execution_count": 16,
   "id": "b69e9df7",
   "metadata": {
    "vscode": {
     "languageId": "r"
    }
   },
   "outputs": [],
   "source": [
    "header <- c(\"author\", \"quotes\", \"tag\")\n",
    "writeLines(paste(header, collapse = \";\"), file_conn, sep = \"\\n\")\n",
    "\n",
    "for(author in authors) {\n",
    "  response <- httr::POST(\n",
    "    url = \"https://quotes.toscrape.com/filter.aspx\",\n",
    "    httr::add_headers(\n",
    "      `Content-Type` = \"application/x-www-form-urlencoded\"\n",
    "    ),\n",
    "    body = list(\n",
    "      author = author,\n",
    "      `__VIEWSTATE` = hidden_inputs[\"__VIEWSTATE\"]\n",
    "    ),\n",
    "    encode = \"form\"\n",
    "  )\n",
    "\n",
    "  tags <- response |>\n",
    "    rvest::read_html() |>\n",
    "    rvest::html_nodes(\"#tag option\")  |>\n",
    "    rvest::html_attr(\"value\")\n",
    "\n",
    "  for(tag in tags) {\n",
    "    response <- httr::POST(\n",
    "      url = \"https://quotes.toscrape.com/filter.aspx\",\n",
    "      httr::add_headers(\n",
    "        `Content-Type` = \"application/x-www-form-urlencoded\"\n",
    "      ),\n",
    "      body = list(\n",
    "        author = author,\n",
    "        tag = tag,\n",
    "        `__VIEWSTATE` = hidden_inputs[\"__VIEWSTATE\"]\n",
    "      ),\n",
    "      encode = \"form\"\n",
    "    )\n",
    "\n",
    "    quotes <- response |>\n",
    "      rvest::read_html() |>\n",
    "      rvest::html_nodes(\".quote .content\") |>\n",
    "      rvest::html_text()\n",
    "\n",
    "    quotes <- Filter(\\(x) !identical(x, character(0)), quotes)\n",
    "\n",
    "    for (quote in quotes) {\n",
    "      line = c(author, quote, tag)\n",
    "      writeLines(paste0(line, collapse = \";\"), file_conn, sep = \"\\n\")\n",
    "    }\n",
    "\n",
    "  }\n",
    "}"
   ]
  },
  {
   "cell_type": "code",
   "execution_count": 17,
   "id": "37343d36",
   "metadata": {
    "vscode": {
     "languageId": "r"
    }
   },
   "outputs": [],
   "source": [
    "close(file_conn)"
   ]
  },
  {
   "cell_type": "markdown",
   "id": "3fed2fdd",
   "metadata": {},
   "source": [
    "## Exemplos de extracão de citacões com login (https://quotes.toscrape.com/login)"
   ]
  },
  {
   "cell_type": "code",
   "execution_count": 18,
   "id": "ab6c0b7e",
   "metadata": {
    "vscode": {
     "languageId": "r"
    }
   },
   "outputs": [
    {
     "name": "stdout",
     "output_type": "stream",
     "text": [
      "Quotes to Scrape\n",
      "    \n",
      "        \n",
      "            \n",
      "                \n",
      "                    Quotes to Scrape\n",
      "                \n",
      "            \n",
      "            \n",
      "                \n",
      "                \n",
      "                    Login\n",
      "                \n",
      "                \n",
      "            \n",
      "        \n",
      "    \n",
      "\n",
      "\n",
      "    \n",
      "\n",
      "    \n",
      "        “The world as we have created it is a process of our thinking. It cannot be changed without changing our thinking.”\n",
      "        by Albert Einstein\n",
      "        (about)\n",
      "        \n",
      "        \n",
      "            Tags:\n",
      "            change\n",
      "            \n",
      "            deep-thoughts\n",
      "            \n",
      "            thinking\n",
      "            \n",
      "            world\n",
      "            \n",
      "        \n",
      "    \n",
      "\n",
      "    \n",
      "        “It is our choices, Harry, that show what we truly are, far more than our abilities.”\n",
      "        by J.K. Rowling\n",
      "        (about)\n",
      "        \n",
      "        \n",
      "            Tags:\n",
      "            abilities\n",
      "            \n",
      "            choices\n",
      "            \n",
      "        \n",
      "    \n",
      "\n",
      "    \n",
      "        “There are only two ways to live your life. One is as though nothing is a miracle. The other is as though everything is a miracle.”\n",
      "        by Albert Einstein\n",
      "        (about)\n",
      "        \n",
      "        \n",
      "            Tags:\n",
      "            inspirational\n",
      "            \n",
      "            life\n",
      "            \n",
      "            live\n",
      "            \n",
      "            miracle\n",
      "            \n",
      "            miracles\n",
      "            \n",
      "        \n",
      "    \n",
      "\n",
      "    \n",
      "        “The person, be it gentleman or lady, who has not pleasure in a good novel, must be intolerably stupid.”\n",
      "        by Jane Austen\n",
      "        (about)\n",
      "        \n",
      "        \n",
      "            Tags:\n",
      "            aliteracy\n",
      "            \n",
      "            books\n",
      "            \n",
      "            classic\n",
      "            \n",
      "            humor\n",
      "            \n",
      "        \n",
      "    \n",
      "\n",
      "    \n",
      "        “Imperfection is beauty, madness is genius and it's better to be absolutely ridiculous than absolutely boring.”\n",
      "        by Marilyn Monroe\n",
      "        (about)\n",
      "        \n",
      "        \n",
      "            Tags:\n",
      "            be-yourself\n",
      "            \n",
      "            inspirational\n",
      "            \n",
      "        \n",
      "    \n",
      "\n",
      "    \n",
      "        “Try not to become a man of success. Rather become a man of value.”\n",
      "        by Albert Einstein\n",
      "        (about)\n",
      "        \n",
      "        \n",
      "            Tags:\n",
      "            adulthood\n",
      "            \n",
      "            success\n",
      "            \n",
      "            value\n",
      "            \n",
      "        \n",
      "    \n",
      "\n",
      "    \n",
      "        “It is better to be hated for what you are than to be loved for what you are not.”\n",
      "        by André Gide\n",
      "        (about)\n",
      "        \n",
      "        \n",
      "            Tags:\n",
      "            life\n",
      "            \n",
      "            love\n",
      "            \n",
      "        \n",
      "    \n",
      "\n",
      "    \n",
      "        “I have not failed. I've just found 10,000 ways that won't work.”\n",
      "        by Thomas A. Edison\n",
      "        (about)\n",
      "        \n",
      "        \n",
      "            Tags:\n",
      "            edison\n",
      "            \n",
      "            failure\n",
      "            \n",
      "            inspirational\n",
      "            \n",
      "            paraphrased\n",
      "            \n",
      "        \n",
      "    \n",
      "\n",
      "    \n",
      "        “A woman is like a tea bag; you never know how strong it is until it's in hot water.”\n",
      "        by Eleanor Roosevelt\n",
      "        (about)\n",
      "        \n",
      "        \n",
      "            Tags:\n",
      "            misattributed-eleanor-roosevelt\n",
      "            \n",
      "        \n",
      "    \n",
      "\n",
      "    \n",
      "        “A day without sunshine is like, you know, night.”\n",
      "        by Steve Martin\n",
      "        (about)\n",
      "        \n",
      "        \n",
      "            Tags:\n",
      "            humor\n",
      "            \n",
      "            obvious\n",
      "            \n",
      "            simile\n",
      "            \n",
      "        \n",
      "    \n",
      "\n",
      "    \n",
      "                Next →\n",
      "            \n",
      "            \n",
      "        \n",
      "    \n",
      "        \n",
      "            Top Ten tags\n",
      "            \n",
      "            \n",
      "            love\n",
      "            \n",
      "            \n",
      "            \n",
      "            inspirational\n",
      "            \n",
      "            \n",
      "            \n",
      "            life\n",
      "            \n",
      "            \n",
      "            \n",
      "            humor\n",
      "            \n",
      "            \n",
      "            \n",
      "            books\n",
      "            \n",
      "            \n",
      "            \n",
      "            reading\n",
      "            \n",
      "            \n",
      "            \n",
      "            friendship\n",
      "            \n",
      "            \n",
      "            \n",
      "            friends\n",
      "            \n",
      "            \n",
      "            \n",
      "            truth\n",
      "            \n",
      "            \n",
      "            \n",
      "            simile\n",
      "            \n",
      "            \n",
      "        \n",
      "    \n",
      "\n",
      "\n",
      "    \n",
      "    \n",
      "            \n",
      "                Quotes by: GoodReads.com\n",
      "            \n",
      "            \n",
      "                Made with ❤ by Zyte\n",
      "            \n",
      "        \n",
      "    "
     ]
    }
   ],
   "source": [
    "rvest::read_html(\"https://quotes.toscrape.com\") |>\n",
    "  rvest::html_text() |>\n",
    "  cat()"
   ]
  },
  {
   "cell_type": "code",
   "execution_count": 19,
   "id": "90a9c097",
   "metadata": {
    "vscode": {
     "languageId": "r"
    }
   },
   "outputs": [
    {
     "data": {
      "text/html": [
       "<strong>csrf_token:</strong> 'tDHIVJydewFGWbcLnlmUfzaupZMrBvjhNTQPsYOgRSEKxqCkXoiA'"
      ],
      "text/latex": [
       "\\textbf{csrf\\textbackslash{}\\_token:} 'tDHIVJydewFGWbcLnlmUfzaupZMrBvjhNTQPsYOgRSEKxqCkXoiA'"
      ],
      "text/markdown": [
       "**csrf_token:** 'tDHIVJydewFGWbcLnlmUfzaupZMrBvjhNTQPsYOgRSEKxqCkXoiA'"
      ],
      "text/plain": [
       "                                            csrf_token \n",
       "\"tDHIVJydewFGWbcLnlmUfzaupZMrBvjhNTQPsYOgRSEKxqCkXoiA\" "
      ]
     },
     "metadata": {},
     "output_type": "display_data"
    }
   ],
   "source": [
    "session <- rvest::session(\"https://quotes.toscrape.com/login\")\n",
    "\n",
    "hidden_inputs <- session |>\n",
    "  rvest::html_nodes(\"input[type='hidden']\") |>\n",
    "  (\\(x) setNames(\n",
    "    rvest::html_attr(x, \"value\"),\n",
    "    rvest::html_attr(x, \"name\")\n",
    "  ))()\n",
    "\n",
    "hidden_inputs\n"
   ]
  },
  {
   "cell_type": "code",
   "execution_count": 20,
   "id": "1790f5c1",
   "metadata": {
    "vscode": {
     "languageId": "r"
    }
   },
   "outputs": [
    {
     "name": "stdout",
     "output_type": "stream",
     "text": [
      "Quotes to Scrape\n",
      "    \n",
      "        \n",
      "            \n",
      "                \n",
      "                    Quotes to Scrape\n",
      "                \n",
      "            \n",
      "            \n",
      "                \n",
      "                \n",
      "                    Logout\n",
      "                \n",
      "                \n",
      "            \n",
      "        \n",
      "    \n",
      "\n",
      "\n",
      "    \n",
      "\n",
      "    \n",
      "        “The world as we have created it is a process of our thinking. It cannot be changed without changing our thinking.”\n",
      "        by Albert Einstein\n",
      "        (about) - (Goodreads page)\n",
      "        \n",
      "        \n",
      "            Tags:\n",
      "            change\n",
      "            \n",
      "            deep-thoughts\n",
      "            \n",
      "            thinking\n",
      "            \n",
      "            world\n",
      "            \n",
      "        \n",
      "    \n",
      "\n",
      "    \n",
      "        “It is our choices, Harry, that show what we truly are, far more than our abilities.”\n",
      "        by J.K. Rowling\n",
      "        (about) - (Goodreads page)\n",
      "        \n",
      "        \n",
      "            Tags:\n",
      "            abilities\n",
      "            \n",
      "            choices\n",
      "            \n",
      "        \n",
      "    \n",
      "\n",
      "    \n",
      "        “There are only two ways to live your life. One is as though nothing is a miracle. The other is as though everything is a miracle.”\n",
      "        by Albert Einstein\n",
      "        (about) - (Goodreads page)\n",
      "        \n",
      "        \n",
      "            Tags:\n",
      "            inspirational\n",
      "            \n",
      "            life\n",
      "            \n",
      "            live\n",
      "            \n",
      "            miracle\n",
      "            \n",
      "            miracles\n",
      "            \n",
      "        \n",
      "    \n",
      "\n",
      "    \n",
      "        “The person, be it gentleman or lady, who has not pleasure in a good novel, must be intolerably stupid.”\n",
      "        by Jane Austen\n",
      "        (about) - (Goodreads page)\n",
      "        \n",
      "        \n",
      "            Tags:\n",
      "            aliteracy\n",
      "            \n",
      "            books\n",
      "            \n",
      "            classic\n",
      "            \n",
      "            humor\n",
      "            \n",
      "        \n",
      "    \n",
      "\n",
      "    \n",
      "        “Imperfection is beauty, madness is genius and it's better to be absolutely ridiculous than absolutely boring.”\n",
      "        by Marilyn Monroe\n",
      "        (about) - (Goodreads page)\n",
      "        \n",
      "        \n",
      "            Tags:\n",
      "            be-yourself\n",
      "            \n",
      "            inspirational\n",
      "            \n",
      "        \n",
      "    \n",
      "\n",
      "    \n",
      "        “Try not to become a man of success. Rather become a man of value.”\n",
      "        by Albert Einstein\n",
      "        (about) - (Goodreads page)\n",
      "        \n",
      "        \n",
      "            Tags:\n",
      "            adulthood\n",
      "            \n",
      "            success\n",
      "            \n",
      "            value\n",
      "            \n",
      "        \n",
      "    \n",
      "\n",
      "    \n",
      "        “It is better to be hated for what you are than to be loved for what you are not.”\n",
      "        by André Gide\n",
      "        (about) - (Goodreads page)\n",
      "        \n",
      "        \n",
      "            Tags:\n",
      "            life\n",
      "            \n",
      "            love\n",
      "            \n",
      "        \n",
      "    \n",
      "\n",
      "    \n",
      "        “I have not failed. I've just found 10,000 ways that won't work.”\n",
      "        by Thomas A. Edison\n",
      "        (about) - (Goodreads page)\n",
      "        \n",
      "        \n",
      "            Tags:\n",
      "            edison\n",
      "            \n",
      "            failure\n",
      "            \n",
      "            inspirational\n",
      "            \n",
      "            paraphrased\n",
      "            \n",
      "        \n",
      "    \n",
      "\n",
      "    \n",
      "        “A woman is like a tea bag; you never know how strong it is until it's in hot water.”\n",
      "        by Eleanor Roosevelt\n",
      "        (about) - (Goodreads page)\n",
      "        \n",
      "        \n",
      "            Tags:\n",
      "            misattributed-eleanor-roosevelt\n",
      "            \n",
      "        \n",
      "    \n",
      "\n",
      "    \n",
      "        “A day without sunshine is like, you know, night.”\n",
      "        by Steve Martin\n",
      "        (about) - (Goodreads page)\n",
      "        \n",
      "        \n",
      "            Tags:\n",
      "            humor\n",
      "            \n",
      "            obvious\n",
      "            \n",
      "            simile\n",
      "            \n",
      "        \n",
      "    \n",
      "\n",
      "    \n",
      "                Next →\n",
      "            \n",
      "            \n",
      "        \n",
      "    \n",
      "        \n",
      "            Top Ten tags\n",
      "            \n",
      "            \n",
      "            love\n",
      "            \n",
      "            \n",
      "            \n",
      "            inspirational\n",
      "            \n",
      "            \n",
      "            \n",
      "            life\n",
      "            \n",
      "            \n",
      "            \n",
      "            humor\n",
      "            \n",
      "            \n",
      "            \n",
      "            books\n",
      "            \n",
      "            \n",
      "            \n",
      "            reading\n",
      "            \n",
      "            \n",
      "            \n",
      "            friendship\n",
      "            \n",
      "            \n",
      "            \n",
      "            friends\n",
      "            \n",
      "            \n",
      "            \n",
      "            truth\n",
      "            \n",
      "            \n",
      "            \n",
      "            simile\n",
      "            \n",
      "            \n",
      "        \n",
      "    \n",
      "\n",
      "\n",
      "    \n",
      "    \n",
      "            \n",
      "                Quotes by: GoodReads.com\n",
      "            \n",
      "            \n",
      "                Made with ❤ by Zyte\n",
      "            \n",
      "        \n",
      "    "
     ]
    }
   ],
   "source": [
    "form <- session |>\n",
    "  rvest::html_form() |>\n",
    "  (\\(x) x[[1]])() |>\n",
    "  rvest::html_form_set(\n",
    "    username = \"Username\",\n",
    "    password = \"Password\"\n",
    "  )\n",
    "\n",
    "session <- rvest::session_submit(session, form)\n",
    "session |>\n",
    "  rvest::session_jump_to(\"https://quotes.toscrape.com\") |>\n",
    "  rvest::read_html() |>\n",
    "  rvest::html_text() |>\n",
    "  cat()"
   ]
  }
 ],
 "metadata": {
  "kernelspec": {
   "display_name": "R",
   "language": "R",
   "name": "ir"
  },
  "language_info": {
   "codemirror_mode": "r",
   "file_extension": ".r",
   "mimetype": "text/x-r-source",
   "name": "R",
   "pygments_lexer": "r",
   "version": "4.3.1"
  }
 },
 "nbformat": 4,
 "nbformat_minor": 5
}
