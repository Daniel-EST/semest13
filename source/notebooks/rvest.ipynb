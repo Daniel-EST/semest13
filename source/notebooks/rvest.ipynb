{
 "cells": [
  {
   "cell_type": "markdown",
   "id": "79cd07a5",
   "metadata": {},
   "source": [
    "# Exemplos `rvest`"
   ]
  },
  {
   "cell_type": "code",
   "execution_count": null,
   "id": "d6b40219-c757-4900-a274-95a8336d79b7",
   "metadata": {
    "vscode": {
     "languageId": "r"
    }
   },
   "outputs": [],
   "source": [
    "renv::install()"
   ]
  },
  {
   "cell_type": "markdown",
   "id": "2e3af9aa",
   "metadata": {},
   "source": [
    "## Exemplos de extracão de citacões (https://quotes.toscrape.com/)"
   ]
  },
  {
   "cell_type": "markdown",
   "id": "5824afb3",
   "metadata": {},
   "source": [
    "Utilizar o `rvest` para relizar a requisicão e capturar o `html` da página"
   ]
  },
  {
   "cell_type": "code",
   "execution_count": null,
   "id": "fb7397ab",
   "metadata": {
    "vscode": {
     "languageId": "r"
    }
   },
   "outputs": [],
   "source": [
    "html <- rvest::read_html(\"https://quotes.toscrape.com/\")"
   ]
  },
  {
   "cell_type": "code",
   "execution_count": null,
   "id": "1f25d5a2",
   "metadata": {
    "vscode": {
     "languageId": "r"
    }
   },
   "outputs": [],
   "source": [
    "quotes <- html |> \n",
    "  rvest::html_nodes(\".text\") |>\n",
    "  rvest::html_text()\n",
    "\n",
    "quotes[1:2]"
   ]
  },
  {
   "cell_type": "markdown",
   "id": "8e822b2c",
   "metadata": {},
   "source": [
    "Abrindo uma conexão de arquivo para salvar os resultados"
   ]
  },
  {
   "cell_type": "code",
   "execution_count": null,
   "id": "68edeb26",
   "metadata": {
    "vscode": {
     "languageId": "r"
    }
   },
   "outputs": [],
   "source": [
    "file_conn <- file(\"../../data/rvest/citacoes_10_paginas.txt\", open = \"a\")"
   ]
  },
  {
   "cell_type": "code",
   "execution_count": null,
   "id": "87ef2fcb",
   "metadata": {
    "vscode": {
     "languageId": "r"
    }
   },
   "outputs": [],
   "source": [
    "# Padrão de url das citacões\n",
    "url_pattern <- \"https://quotes.toscrape.com/page/%d\"\n",
    "urls <- sprintf(url_pattern, 1:10)\n",
    "\n",
    "# Criando `header` do arquivo csv\n",
    "header <- c(\"author\", \"quote\")\n",
    "writeLines(paste(header, collapse = \";\"), file_conn, sep = \"\\n\")\n",
    "\n",
    "for(url in urls) {\n",
    "  # Requisicão do html\n",
    "  html <- rvest::read_html(url)\n",
    "\n",
    "  authors <- html |>\n",
    "    rvest::html_nodes(\".author\") |>\n",
    "    rvest::html_text()\n",
    "\n",
    "  quotes <- html |>\n",
    "    rvest::html_nodes(\".text\") |>\n",
    "    rvest::html_text()\n",
    "\n",
    "  writeLines(paste0(authors, \";\", quotes, collapse = \"\\n\"), file_conn, sep = \"\")\n",
    "  Sys.sleep(1)\n",
    "}"
   ]
  },
  {
   "cell_type": "markdown",
   "id": "50fd5f52",
   "metadata": {},
   "source": [
    "Fechar arquivo"
   ]
  },
  {
   "cell_type": "code",
   "execution_count": null,
   "id": "d6e73dfb",
   "metadata": {
    "vscode": {
     "languageId": "r"
    }
   },
   "outputs": [],
   "source": [
    "close(file_conn)"
   ]
  },
  {
   "cell_type": "markdown",
   "id": "fc6fcbc8",
   "metadata": {},
   "source": [
    "## Exemplos de extracão de citacões com preenchimento de formulário (https://quotes.toscrape.com/search.aspx)"
   ]
  },
  {
   "cell_type": "markdown",
   "id": "2fc99978",
   "metadata": {},
   "source": [
    "##### Exemplo único"
   ]
  },
  {
   "cell_type": "code",
   "execution_count": null,
   "id": "720333ab",
   "metadata": {
    "vscode": {
     "languageId": "r"
    }
   },
   "outputs": [],
   "source": [
    "html <- rvest::read_html(\"https://quotes.toscrape.com/search.aspx\")\n",
    "\n",
    "hidden_inputs <- html |>\n",
    "  rvest::html_nodes(\"input[type='hidden']\") |>\n",
    "  (\\(x) setNames(\n",
    "    rvest::html_attr(x, \"value\"),\n",
    "    rvest::html_attr(x, \"name\")\n",
    "  ))()\n",
    "\n",
    "response <- httr::POST(\n",
    "  url = \"https://quotes.toscrape.com/filter.aspx\",\n",
    "  httr::add_headers(\n",
    "    `Content-Type` = \"application/x-www-form-urlencoded\"\n",
    "  ),\n",
    "  body = list(\n",
    "    author = \"Haruki Murakami\",\n",
    "    tag = \"thought\",\n",
    "    `__VIEWSTATE` = hidden_inputs[\"__VIEWSTATE\"]\n",
    "  ),\n",
    "  encode = \"form\"\n",
    ")"
   ]
  },
  {
   "cell_type": "code",
   "execution_count": null,
   "id": "e95843ea",
   "metadata": {
    "vscode": {
     "languageId": "r"
    }
   },
   "outputs": [],
   "source": [
    "quotes <- response |>\n",
    "  rvest::read_html() |>\n",
    "  rvest::html_nodes(\".quote .content\") |>\n",
    "  rvest::html_text()\n",
    "\n",
    "quotes"
   ]
  },
  {
   "cell_type": "markdown",
   "id": "7ed8575e",
   "metadata": {},
   "source": [
    "##### Exemplo vários"
   ]
  },
  {
   "cell_type": "code",
   "execution_count": null,
   "id": "72fac314",
   "metadata": {
    "vscode": {
     "languageId": "r"
    }
   },
   "outputs": [],
   "source": [
    "html <- rvest::read_html(\"https://quotes.toscrape.com/search.aspx\")\n",
    "\n",
    "authors <- html |>\n",
    "  rvest::html_nodes(\"#author option\") |>\n",
    "  rvest::html_attr(\"value\")\n",
    "\n",
    "authors <- Filter(\\(x) !is.na(x), authors)\n",
    "\n",
    "hidden_inputs <- html |>\n",
    "  rvest::html_nodes(\"input[type='hidden']\") |>\n",
    "  (\\(x) setNames(\n",
    "    rvest::html_attr(x, \"value\"),\n",
    "    rvest::html_attr(x, \"name\")\n",
    "  ))()"
   ]
  },
  {
   "cell_type": "code",
   "execution_count": null,
   "id": "292ca226",
   "metadata": {
    "vscode": {
     "languageId": "r"
    }
   },
   "outputs": [],
   "source": [
    "file_conn <- file(\"../../data/rvest/citacoes_filtro.txt\", open = \"a\")"
   ]
  },
  {
   "cell_type": "code",
   "execution_count": null,
   "id": "b69e9df7",
   "metadata": {
    "vscode": {
     "languageId": "r"
    }
   },
   "outputs": [],
   "source": [
    "header <- c(\"author\", \"quotes\", \"tag\")\n",
    "writeLines(paste(header, collapse = \";\"), file_conn, sep = \"\\n\")\n",
    "\n",
    "for(author in authors) {\n",
    "  response <- httr::POST(\n",
    "    url = \"https://quotes.toscrape.com/filter.aspx\",\n",
    "    httr::add_headers(\n",
    "      `Content-Type` = \"application/x-www-form-urlencoded\"\n",
    "    ),\n",
    "    body = list(\n",
    "      author = author,\n",
    "      `__VIEWSTATE` = hidden_inputs[\"__VIEWSTATE\"]\n",
    "    ),\n",
    "    encode = \"form\"\n",
    "  )\n",
    "\n",
    "  tags <- response |>\n",
    "    rvest::read_html() |>\n",
    "    rvest::html_nodes(\"#tag option\")  |>\n",
    "    rvest::html_attr(\"value\")\n",
    "\n",
    "  for(tag in tags) {\n",
    "    response <- httr::POST(\n",
    "      url = \"https://quotes.toscrape.com/filter.aspx\",\n",
    "      httr::add_headers(\n",
    "        `Content-Type` = \"application/x-www-form-urlencoded\"\n",
    "      ),\n",
    "      body = list(\n",
    "        author = author,\n",
    "        tag = tag,\n",
    "        `__VIEWSTATE` = hidden_inputs[\"__VIEWSTATE\"]\n",
    "      ),\n",
    "      encode = \"form\"\n",
    "    )\n",
    "\n",
    "    quotes <- response |>\n",
    "      rvest::read_html() |>\n",
    "      rvest::html_nodes(\".quote .content\") |>\n",
    "      rvest::html_text()\n",
    "\n",
    "    quotes <- Filter(\\(x) !identical(x, character(0)), quotes)\n",
    "\n",
    "    for (quote in quotes) {\n",
    "      line = c(author, quote, tag)\n",
    "      writeLines(paste0(line, collapse = \";\"), file_conn, sep = \"\\n\")\n",
    "    }\n",
    "\n",
    "  }\n",
    "}"
   ]
  },
  {
   "cell_type": "code",
   "execution_count": null,
   "id": "37343d36",
   "metadata": {
    "vscode": {
     "languageId": "r"
    }
   },
   "outputs": [],
   "source": [
    "close(file_conn)"
   ]
  },
  {
   "cell_type": "markdown",
   "id": "3fed2fdd",
   "metadata": {},
   "source": [
    "## Exemplos de extracão de citacões com login (https://quotes.toscrape.com/login)"
   ]
  },
  {
   "cell_type": "code",
   "execution_count": null,
   "id": "ab6c0b7e",
   "metadata": {
    "vscode": {
     "languageId": "r"
    }
   },
   "outputs": [],
   "source": [
    "rvest::read_html(\"https://quotes.toscrape.com\") |>\n",
    "  rvest::html_text() |>\n",
    "  cat()"
   ]
  },
  {
   "cell_type": "code",
   "execution_count": null,
   "id": "90a9c097",
   "metadata": {
    "vscode": {
     "languageId": "r"
    }
   },
   "outputs": [],
   "source": [
    "session <- rvest::session(\"https://quotes.toscrape.com/login\")\n",
    "\n",
    "hidden_inputs <- session |>\n",
    "  rvest::html_nodes(\"input[type='hidden']\") |>\n",
    "  (\\(x) setNames(\n",
    "    rvest::html_attr(x, \"value\"),\n",
    "    rvest::html_attr(x, \"name\")\n",
    "  ))()\n",
    "\n",
    "hidden_inputs\n"
   ]
  },
  {
   "cell_type": "code",
   "execution_count": null,
   "id": "1790f5c1",
   "metadata": {
    "vscode": {
     "languageId": "r"
    }
   },
   "outputs": [],
   "source": [
    "form <- session |>\n",
    "  rvest::html_form() |>\n",
    "  (\\(x) x[[1]])() |>\n",
    "  rvest::html_form_set(\n",
    "    username = \"Username\",\n",
    "    password = \"Password\"\n",
    "  )\n",
    "\n",
    "session <- rvest::session_submit(session, form)\n",
    "session |>\n",
    "  rvest::session_jump_to(\"https://quotes.toscrape.com\") |>\n",
    "  rvest::read_html() |>\n",
    "  rvest::html_text() |>\n",
    "  cat()"
   ]
  },
  {
   "cell_type": "markdown",
   "id": "8b58f270",
   "metadata": {},
   "source": [
    "## Exemplos de extracão de Top 250 filmes do IMDB (https://www.imdb.com/chart/top)"
   ]
  },
  {
   "cell_type": "code",
   "execution_count": null,
   "id": "b26e1ab2",
   "metadata": {
    "vscode": {
     "languageId": "r"
    }
   },
   "outputs": [],
   "source": [
    "imdb_url <- \"https://www.imdb.com/\"\n",
    "top_250_url <- \"chart/top\"\n",
    "\n",
    "top_250_html <- rvest::read_html(paste0(imdb_url, top_250_url))"
   ]
  },
  {
   "cell_type": "code",
   "execution_count": null,
   "id": "debd3b37",
   "metadata": {
    "vscode": {
     "languageId": "r"
    }
   },
   "outputs": [],
   "source": [
    "movie_urls <- top_250_html |>\n",
    "  rvest::html_nodes(\".cli-children a\") |>\n",
    "  rvest::html_attr(\"href\")\n",
    "\n",
    "movie_urls[1:5]"
   ]
  },
  {
   "cell_type": "code",
   "execution_count": null,
   "id": "13e83491",
   "metadata": {
    "vscode": {
     "languageId": "r"
    }
   },
   "outputs": [],
   "source": [
    "file_conn <- file(\"../../data/rvest/top_250_filmes.txt\", open = \"a\")"
   ]
  },
  {
   "cell_type": "code",
   "execution_count": null,
   "id": "876c859f",
   "metadata": {
    "vscode": {
     "languageId": "r"
    }
   },
   "outputs": [],
   "source": [
    "header <- c(\"title\", \"rating\", \"score\", \"director\")\n",
    "writeLines(paste(header, collapse = \";\"), file_conn, sep = \"\\n\")\n",
    "\n",
    "for (movie_url in movie_urls) {\n",
    "  movie_html <- rvest::read_html(paste0(imdb_url, movie_url))\n",
    "\n",
    "  title <- movie_html |>\n",
    "    rvest::html_nodes(\"h1\") |>\n",
    "    rvest::html_text()\n",
    "\n",
    "  rating <- movie_html |>\n",
    "    rvest::html_nodes(\"h1\") |>\n",
    "    rvest::html_text()\n",
    "\n",
    "  score <- movie_html |>\n",
    "    rvest::html_nodes(\"h1\") |>\n",
    "    rvest::html_text()\n",
    "\n",
    "  director <- movie_html |>\n",
    "    rvest::html_nodes(\"h1\") |>\n",
    "    rvest::html_text()\n",
    "\n",
    "  line <- c(title, rating, score, director)\n",
    "  writeLines(paste(line, collapse = \";\"), file_conn, sep = \"\\n\")\n",
    "  Sys.sleep(1)\n",
    "}"
   ]
  },
  {
   "cell_type": "code",
   "execution_count": null,
   "id": "43a9e799",
   "metadata": {
    "vscode": {
     "languageId": "r"
    }
   },
   "outputs": [],
   "source": [
    "close(file_conn)"
   ]
  }
 ],
 "metadata": {
  "kernelspec": {
   "display_name": "R",
   "language": "R",
   "name": "ir"
  },
  "language_info": {
   "codemirror_mode": "r",
   "file_extension": ".r",
   "mimetype": "text/x-r-source",
   "name": "R",
   "pygments_lexer": "r",
   "version": "4.3.1"
  }
 },
 "nbformat": 4,
 "nbformat_minor": 5
}
