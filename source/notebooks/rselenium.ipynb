{
 "cells": [
  {
   "cell_type": "markdown",
   "id": "8ab5b82a",
   "metadata": {},
   "source": [
    "# Exemplos `RSelenium`"
   ]
  },
  {
   "cell_type": "code",
   "execution_count": null,
   "id": "d6b40219-c757-4900-a274-95a8336d79b7",
   "metadata": {
    "vscode": {
     "languageId": "r"
    }
   },
   "outputs": [],
   "source": [
    "# renv é um gerenciador de ambientes para R\n",
    "renv::init()\n",
    "renv::install()"
   ]
  },
  {
   "cell_type": "markdown",
   "id": "e578acd3",
   "metadata": {},
   "source": [
    "Selecionando a porta de rede para abrir o Selenium Server"
   ]
  },
  {
   "cell_type": "code",
   "execution_count": null,
   "id": "a2113fbd",
   "metadata": {
    "vscode": {
     "languageId": "r"
    }
   },
   "outputs": [],
   "source": [
    "port <- 4445L"
   ]
  },
  {
   "cell_type": "markdown",
   "id": "2c64329e",
   "metadata": {},
   "source": [
    "Iniciando o Selenium Server e o Remote Driver"
   ]
  },
  {
   "cell_type": "code",
   "execution_count": null,
   "id": "de53b83e-3656-4672-a128-a6f890887933",
   "metadata": {
    "vscode": {
     "languageId": "r"
    }
   },
   "outputs": [],
   "source": [
    "# Inicia Selenium Server na porta escolhida\n",
    "geckodriver <- wdman::selenium(port = port, verbose = FALSE)\n",
    "\n",
    "# Inicia o Remote Driver\n",
    "rem_dr <- RSelenium::remoteDriver(\n",
    "  remoteServerAddr = \"localhost\",\n",
    "  port = port,\n",
    "  browserName = \"firefox\"\n",
    ")\n",
    "\n",
    "# Código para inciar o Remote Driver de forma 'headless'\n",
    "# options <- list(\"moz:firefoxOptions\" = list(args = list(\"--headless\")))\n",
    "# rem_dr <- RSelenium::remoteDriver(\n",
    "#   remoteServerAddr = \"localhost\",\n",
    "#   port = port,\n",
    "#   browserName = \"firefox\",\n",
    "#   extraCapabilities = options\n",
    "# )"
   ]
  },
  {
   "cell_type": "markdown",
   "id": "59363b0f",
   "metadata": {},
   "source": [
    "Abrindo uma janela do navegador"
   ]
  },
  {
   "cell_type": "code",
   "execution_count": null,
   "id": "63eb447d",
   "metadata": {
    "vscode": {
     "languageId": "r"
    }
   },
   "outputs": [],
   "source": [
    "rem_dr$open()"
   ]
  },
  {
   "cell_type": "markdown",
   "id": "922bc76c",
   "metadata": {},
   "source": [
    "Maximizar a tela"
   ]
  },
  {
   "cell_type": "code",
   "execution_count": null,
   "id": "73963d2f",
   "metadata": {
    "vscode": {
     "languageId": "r"
    }
   },
   "outputs": [],
   "source": [
    "rem_dr$maxWindowSize()"
   ]
  },
  {
   "cell_type": "markdown",
   "id": "3f9d04d3",
   "metadata": {},
   "source": [
    "## Exemplos de extracão de filmes com busca (https://www.imdb.com/)"
   ]
  },
  {
   "cell_type": "markdown",
   "id": "0749e598",
   "metadata": {},
   "source": [
    "Navegar até o site do IMDB"
   ]
  },
  {
   "cell_type": "code",
   "execution_count": null,
   "id": "a0cd20e6-8f60-4164-85c7-bd6b3305b73d",
   "metadata": {
    "vscode": {
     "languageId": "r"
    }
   },
   "outputs": [],
   "source": [
    "rem_dr$navigate(\"https://www.imdb.com/\")"
   ]
  },
  {
   "cell_type": "markdown",
   "id": "e0b2463f",
   "metadata": {},
   "source": [
    "Criar conexão de arquivo para salvar os dados"
   ]
  },
  {
   "cell_type": "code",
   "execution_count": null,
   "id": "ee3e1a90",
   "metadata": {
    "vscode": {
     "languageId": "r"
    }
   },
   "outputs": [],
   "source": [
    "file_conn <- file(\"../../data/rselenium/filmes.txt\", open = \"a\")"
   ]
  },
  {
   "cell_type": "code",
   "execution_count": null,
   "id": "3c89e425-66f2-4423-a9f1-0177caf5b45c",
   "metadata": {
    "vscode": {
     "languageId": "r"
    }
   },
   "outputs": [],
   "source": [
    "series <- c(\"WANDINHA\",\"A CASA DO DRAGÃO\", \"THE BOYS\")\n",
    "\n",
    "header <- c(\"title\", \"score\", \"raiting\", \"popularity\")\n",
    "writeLines(paste(header, collapse = \";\"), file_conn, sep = \"\\n\")\n",
    "\n",
    "for(serie in series) {\n",
    "  search <- rem_dr$findElement(using = \"xpath\",\"//input[@id=\\\"suggestion-search\\\"]\")\n",
    "  search$sendKeysToElement(list(serie, key = \"enter\"))\n",
    "  Sys.sleep(2)\n",
    "\n",
    "  result <- rem_dr$findElement(using = \"xpath\", \"//*[@id=\\\"__next\\\"]/main/div[2]/div[3]/section/div/div[1]/section[2]/div[2]/ul/li[1]/div[2]/div[1]/a\")\n",
    "  result$clickElement()\n",
    "  Sys.sleep(2)\n",
    "\n",
    "  rating <- rem_dr$findElement(using = \"css selector\", \".sc-bde20123-1\")\n",
    "  rating <- nota$getElementText()\n",
    "\n",
    "  score <- rem_dr$findElement(using = \"css selector\", \".sc-bde20123-3\")\n",
    "  score <- avaliacoes$getElementText()\n",
    "\n",
    "  popularity <- rem_dr$findElement(using = \"css selector\", \".sc-5f7fb5b4-1\")\n",
    "  popularity <- popularity$getElementText()\n",
    "\n",
    "  line <- c(serie, rating, score, popularity)\n",
    "  writeLines(paste(line, collapse = \";\"), file_conn, sep = \"\\n\")\n",
    "\n",
    "  rem_dr$goBack()\n",
    "  rem_dr$goBack()\n",
    "  Sys.sleep(2)\n",
    "}"
   ]
  },
  {
   "cell_type": "markdown",
   "id": "12577bd1",
   "metadata": {},
   "source": [
    "Fecha conexão com o arquivo"
   ]
  },
  {
   "cell_type": "code",
   "execution_count": null,
   "id": "25a9b349",
   "metadata": {
    "vscode": {
     "languageId": "r"
    }
   },
   "outputs": [],
   "source": [
    "close(file_conn)"
   ]
  },
  {
   "cell_type": "markdown",
   "id": "40424935",
   "metadata": {},
   "source": [
    "Finaliza conexão do Remote Driver e Selenium Server"
   ]
  },
  {
   "cell_type": "code",
   "execution_count": null,
   "id": "33970a9f",
   "metadata": {
    "vscode": {
     "languageId": "r"
    }
   },
   "outputs": [],
   "source": [
    "rem_dr$close()\n",
    "geckodriver$stop()"
   ]
  }
 ],
 "metadata": {
  "kernelspec": {
   "display_name": "R",
   "language": "R",
   "name": "ir"
  },
  "language_info": {
   "codemirror_mode": "r",
   "file_extension": ".r",
   "mimetype": "text/x-r-source",
   "name": "R",
   "pygments_lexer": "r",
   "version": "4.3.1"
  }
 },
 "nbformat": 4,
 "nbformat_minor": 5
}
