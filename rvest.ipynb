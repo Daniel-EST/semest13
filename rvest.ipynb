{
 "cells": [
  {
   "cell_type": "code",
   "execution_count": null,
   "id": "d6b40219-c757-4900-a274-95a8336d79b7",
   "metadata": {
    "vscode": {
     "languageId": "r"
    }
   },
   "outputs": [],
   "source": [
    "renv::init()\n",
    "renv::install(\"rvest\")"
   ]
  },
  {
   "cell_type": "code",
   "execution_count": null,
   "id": "fb7397ab",
   "metadata": {
    "vscode": {
     "languageId": "r"
    }
   },
   "outputs": [],
   "source": [
    "html <- rvest::read_html(\"https://quotes.toscrape.com/\")"
   ]
  },
  {
   "cell_type": "code",
   "execution_count": null,
   "id": "1f25d5a2",
   "metadata": {
    "vscode": {
     "languageId": "r"
    }
   },
   "outputs": [],
   "source": [
    "quotes <- html |> \n",
    "  rvest::html_nodes(\".text\") |>\n",
    "  rvest::html_text()\n",
    "\n",
    "quotes"
   ]
  },
  {
   "cell_type": "code",
   "execution_count": null,
   "id": "68edeb26",
   "metadata": {
    "vscode": {
     "languageId": "r"
    }
   },
   "outputs": [],
   "source": [
    "file_conn <- file(\"./data/citacoes.txt\", open = \"a\")"
   ]
  },
  {
   "cell_type": "code",
   "execution_count": null,
   "id": "87ef2fcb",
   "metadata": {
    "vscode": {
     "languageId": "r"
    }
   },
   "outputs": [],
   "source": [
    "url_pattern <- \"https://quotes.toscrape.com/page/%d\"\n",
    "urls <- sprintf(url_pattern, 1:10)\n",
    "\n",
    "header <- c(\"citacao\", \"autor\")\n",
    "writeLines(paste(header, collapse = \";\"), file_conn, sep = \"\\n\")\n",
    "\n",
    "for(url in urls) {\n",
    "  html <- rvest::read_html(url)\n",
    "\n",
    "  quotes <- html |>\n",
    "    rvest::html_nodes(\".text\") |>\n",
    "    rvest::html_text()\n",
    "\n",
    "\n",
    "  authors <- html |>\n",
    "    rvest::html_nodes(\".author\") |>\n",
    "    rvest::html_text()\n",
    "\n",
    "  writeLines(paste0(quotes, \";\", authors, collapse = \"\\n\"), file_conn, sep = \"\")\n",
    "  Sys.sleep(1)\n",
    "}"
   ]
  },
  {
   "cell_type": "code",
   "execution_count": null,
   "id": "d6e73dfb",
   "metadata": {
    "vscode": {
     "languageId": "r"
    }
   },
   "outputs": [],
   "source": [
    "close(file_conn)"
   ]
  },
  {
   "cell_type": "code",
   "execution_count": null,
   "id": "720333ab",
   "metadata": {
    "vscode": {
     "languageId": "r"
    }
   },
   "outputs": [],
   "source": [
    "html <- rvest::read_html(\"https://quotes.toscrape.com/search.aspx\")\n",
    "\n",
    "hidden_inputs <- html |>\n",
    "  rvest::html_nodes(\"input[type='hidden']\") |>\n",
    "  (\\(x) setNames(\n",
    "    rvest::html_attr(x, \"value\"),\n",
    "    rvest::html_attr(x, \"name\")\n",
    "  ))()\n",
    "\n",
    "response <- httr::POST(\n",
    "  url = \"https://quotes.toscrape.com/filter.aspx\",\n",
    "  httr::add_headers(\n",
    "    `Content-Type` = \"application/x-www-form-urlencoded\"\n",
    "  ),\n",
    "  body = list(\n",
    "    author = \"Haruki Murakami\",\n",
    "    tag = \"thought\",\n",
    "    `__VIEWSTATE` = hidden_inputs[\"__VIEWSTATE\"]\n",
    "  ),\n",
    "  encode = \"form\"\n",
    ")"
   ]
  },
  {
   "cell_type": "code",
   "execution_count": null,
   "id": "e95843ea",
   "metadata": {
    "vscode": {
     "languageId": "r"
    }
   },
   "outputs": [],
   "source": [
    "quotes <- response |>\n",
    "  rvest::read_html() |>\n",
    "  rvest::html_nodes(\".quote .content\") |>\n",
    "  rvest::html_text()\n",
    "\n",
    "quotes"
   ]
  },
  {
   "cell_type": "code",
   "execution_count": null,
   "id": "b69e9df7",
   "metadata": {
    "vscode": {
     "languageId": "r"
    }
   },
   "outputs": [],
   "source": [
    "html <- rvest::read_html(\"https://quotes.toscrape.com/search.aspx\")\n",
    "\n",
    "authors <- html |>\n",
    "  rvest::html_nodes(\"#author option\") |>\n",
    "  rvest::html_attr(\"value\")\n",
    "\n",
    "authors <- Filter(\\(x) !is.na(x), authors)\n",
    "\n",
    "hidden_inputs <- html |>\n",
    "  rvest::html_nodes(\"input[type='hidden']\") |>\n",
    "  (\\(x) setNames(\n",
    "    rvest::html_attr(x, \"value\"),\n",
    "    rvest::html_attr(x, \"name\")\n",
    "  ))()\n",
    "\n",
    "for(author in authors) {\n",
    "  response <- httr::POST(\n",
    "    url = \"https://quotes.toscrape.com/filter.aspx\",\n",
    "    httr::add_headers(\n",
    "      `Content-Type` = \"application/x-www-form-urlencoded\"\n",
    "    ),\n",
    "    body = list(\n",
    "      author = author,\n",
    "      `__VIEWSTATE` = hidden_inputs[\"__VIEWSTATE\"]\n",
    "    ),\n",
    "    encode = \"form\"\n",
    "  )\n",
    "\n",
    "  tags <- response |>\n",
    "    rvest::read_html() |>\n",
    "    rvest::html_nodes(\"#tag option\")  |>\n",
    "    rvest::html_attr(\"value\")\n",
    "\n",
    "  for(tag in tags) {\n",
    "    response <- httr::POST(\n",
    "      url = \"https://quotes.toscrape.com/filter.aspx\",\n",
    "      httr::add_headers(\n",
    "        `Content-Type` = \"application/x-www-form-urlencoded\"\n",
    "      ),\n",
    "      body = list(\n",
    "        author = author,\n",
    "        tag = tag,\n",
    "        `__VIEWSTATE` = hidden_inputs[\"__VIEWSTATE\"]\n",
    "      ),\n",
    "      encode = \"form\"\n",
    "    )\n",
    "\n",
    "    quotes <- response |>\n",
    "      rvest::read_html() |>\n",
    "      rvest::html_nodes(\".quote .content\") |>\n",
    "      rvest::html_text()\n",
    "\n",
    "    quotes <- Filter(\\(x) !identical(x, character(0)), quotes)\n",
    "    cat(sprintf(\"Author: %s; Quotes %s; Tag: %s;\\n\", author, quotes, tag))\n",
    "  }\n",
    "}"
   ]
  },
  {
   "cell_type": "code",
   "execution_count": null,
   "id": "90a9c097",
   "metadata": {
    "vscode": {
     "languageId": "r"
    }
   },
   "outputs": [],
   "source": [
    "session <- rvest::session(\"https://quotes.toscrape.com/login\")\n",
    "\n",
    "hidden_inputs <- session |>\n",
    "  rvest::html_nodes(\"input[type='hidden']\") |>\n",
    "  (\\(x) setNames(\n",
    "    rvest::html_attr(x, \"value\"),\n",
    "    rvest::html_attr(x, \"name\")\n",
    "  ))()\n",
    "\n",
    "print(hidden_inputs)\n"
   ]
  },
  {
   "cell_type": "code",
   "execution_count": null,
   "id": "1790f5c1",
   "metadata": {
    "vscode": {
     "languageId": "r"
    }
   },
   "outputs": [],
   "source": [
    "form <- session |> \n",
    "  rvest::html_form() |>\n",
    "  (\\(x) x[[1]])() |>\n",
    "  rvest::html_form_set(\n",
    "    username = \"Username\",\n",
    "    password = \"Password\"\n",
    "  )\n",
    "\n",
    "session_2 <- rvest::session_submit(session, form)\n",
    "session_2 |> rvest::session_jump_to(\"https://quotes.toscrape.com\") |> rvest::read_html() |> rvest::html_text() |> cat()"
   ]
  },
  {
   "cell_type": "code",
   "execution_count": 70,
   "id": "82dd58f9",
   "metadata": {
    "vscode": {
     "languageId": "r"
    }
   },
   "outputs": [],
   "source": [
    "login <- session |>\n",
    "  rvest::html_form() |>\n",
    "  (\\(x) x[[1]])() |>\n",
    "  rvest::html_form_set(\n",
    "    username = \"Username\",\n",
    "    password = \"Password\"\n",
    "  )\n",
    "\n",
    "logged_in <- session |> rvest::session_submit(login)"
   ]
  }
 ],
 "metadata": {
  "kernelspec": {
   "display_name": "R",
   "language": "R",
   "name": "ir"
  },
  "language_info": {
   "codemirror_mode": "r",
   "file_extension": ".r",
   "mimetype": "text/x-r-source",
   "name": "R",
   "pygments_lexer": "r",
   "version": "4.3.1"
  }
 },
 "nbformat": 4,
 "nbformat_minor": 5
}
