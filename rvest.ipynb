{
 "cells": [
  {
   "cell_type": "code",
   "execution_count": 1,
   "id": "d6b40219-c757-4900-a274-95a8336d79b7",
   "metadata": {
    "vscode": {
     "languageId": "r"
    }
   },
   "outputs": [
    {
     "name": "stdout",
     "output_type": "stream",
     "text": [
      "- The project is out-of-sync -- use `renv::status()` for details.\n",
      "The following package(s) will be installed:\n",
      "- rvest [1.0.3]\n",
      "These packages will be installed into \"~/500GB STORAGE/Coding/Projects/semest-13/renv/library/R-4.3/x86_64-pc-linux-gnu\".\n",
      "\n",
      "# Installing packages --------------------------------------------------------\n",
      "- Installing rvest ...                          OK [linked from cache]\n",
      "Successfully installed 1 package in 4 milliseconds.\n"
     ]
    }
   ],
   "source": [
    "renv::init()\n",
    "renv::install(\"rvest\")"
   ]
  },
  {
   "cell_type": "code",
   "execution_count": 2,
   "id": "fb7397ab",
   "metadata": {
    "vscode": {
     "languageId": "r"
    }
   },
   "outputs": [],
   "source": [
    "html <- rvest::read_html(\"https://quotes.toscrape.com/\")"
   ]
  },
  {
   "cell_type": "code",
   "execution_count": 3,
   "id": "1f25d5a2",
   "metadata": {
    "vscode": {
     "languageId": "r"
    }
   },
   "outputs": [
    {
     "data": {
      "text/html": [
       "<style>\n",
       ".list-inline {list-style: none; margin:0; padding: 0}\n",
       ".list-inline>li {display: inline-block}\n",
       ".list-inline>li:not(:last-child)::after {content: \"\\00b7\"; padding: 0 .5ex}\n",
       "</style>\n",
       "<ol class=list-inline><li>'“The world as we have created it is a process of our thinking. It cannot be changed without changing our thinking.”'</li><li>'“It is our choices, Harry, that show what we truly are, far more than our abilities.”'</li><li>'“There are only two ways to live your life. One is as though nothing is a miracle. The other is as though everything is a miracle.”'</li><li>'“The person, be it gentleman or lady, who has not pleasure in a good novel, must be intolerably stupid.”'</li><li>'“Imperfection is beauty, madness is genius and it\\'s better to be absolutely ridiculous than absolutely boring.”'</li><li>'“Try not to become a man of success. Rather become a man of value.”'</li><li>'“It is better to be hated for what you are than to be loved for what you are not.”'</li><li>'“I have not failed. I\\'ve just found 10,000 ways that won\\'t work.”'</li><li>'“A woman is like a tea bag; you never know how strong it is until it\\'s in hot water.”'</li><li>'“A day without sunshine is like, you know, night.”'</li></ol>\n"
      ],
      "text/latex": [
       "\\begin{enumerate*}\n",
       "\\item '“The world as we have created it is a process of our thinking. It cannot be changed without changing our thinking.”'\n",
       "\\item '“It is our choices, Harry, that show what we truly are, far more than our abilities.”'\n",
       "\\item '“There are only two ways to live your life. One is as though nothing is a miracle. The other is as though everything is a miracle.”'\n",
       "\\item '“The person, be it gentleman or lady, who has not pleasure in a good novel, must be intolerably stupid.”'\n",
       "\\item '“Imperfection is beauty, madness is genius and it\\textbackslash{}'s better to be absolutely ridiculous than absolutely boring.”'\n",
       "\\item '“Try not to become a man of success. Rather become a man of value.”'\n",
       "\\item '“It is better to be hated for what you are than to be loved for what you are not.”'\n",
       "\\item '“I have not failed. I\\textbackslash{}'ve just found 10,000 ways that won\\textbackslash{}'t work.”'\n",
       "\\item '“A woman is like a tea bag; you never know how strong it is until it\\textbackslash{}'s in hot water.”'\n",
       "\\item '“A day without sunshine is like, you know, night.”'\n",
       "\\end{enumerate*}\n"
      ],
      "text/markdown": [
       "1. '“The world as we have created it is a process of our thinking. It cannot be changed without changing our thinking.”'\n",
       "2. '“It is our choices, Harry, that show what we truly are, far more than our abilities.”'\n",
       "3. '“There are only two ways to live your life. One is as though nothing is a miracle. The other is as though everything is a miracle.”'\n",
       "4. '“The person, be it gentleman or lady, who has not pleasure in a good novel, must be intolerably stupid.”'\n",
       "5. '“Imperfection is beauty, madness is genius and it\\'s better to be absolutely ridiculous than absolutely boring.”'\n",
       "6. '“Try not to become a man of success. Rather become a man of value.”'\n",
       "7. '“It is better to be hated for what you are than to be loved for what you are not.”'\n",
       "8. '“I have not failed. I\\'ve just found 10,000 ways that won\\'t work.”'\n",
       "9. '“A woman is like a tea bag; you never know how strong it is until it\\'s in hot water.”'\n",
       "10. '“A day without sunshine is like, you know, night.”'\n",
       "\n",
       "\n"
      ],
      "text/plain": [
       " [1] \"“The world as we have created it is a process of our thinking. It cannot be changed without changing our thinking.”\"                \n",
       " [2] \"“It is our choices, Harry, that show what we truly are, far more than our abilities.”\"                                              \n",
       " [3] \"“There are only two ways to live your life. One is as though nothing is a miracle. The other is as though everything is a miracle.”\"\n",
       " [4] \"“The person, be it gentleman or lady, who has not pleasure in a good novel, must be intolerably stupid.”\"                           \n",
       " [5] \"“Imperfection is beauty, madness is genius and it's better to be absolutely ridiculous than absolutely boring.”\"                    \n",
       " [6] \"“Try not to become a man of success. Rather become a man of value.”\"                                                                \n",
       " [7] \"“It is better to be hated for what you are than to be loved for what you are not.”\"                                                 \n",
       " [8] \"“I have not failed. I've just found 10,000 ways that won't work.”\"                                                                  \n",
       " [9] \"“A woman is like a tea bag; you never know how strong it is until it's in hot water.”\"                                              \n",
       "[10] \"“A day without sunshine is like, you know, night.”\"                                                                                 "
      ]
     },
     "metadata": {},
     "output_type": "display_data"
    }
   ],
   "source": [
    "quotes <- html |> \n",
    "  rvest::html_nodes(\".text\") |>\n",
    "  rvest::html_text()\n",
    "\n",
    "quotes"
   ]
  },
  {
   "cell_type": "code",
   "execution_count": 4,
   "id": "68edeb26",
   "metadata": {
    "vscode": {
     "languageId": "r"
    }
   },
   "outputs": [],
   "source": [
    "file_conn <- file(\"./data/citacoes.txt\", open = \"a\")"
   ]
  },
  {
   "cell_type": "code",
   "execution_count": 5,
   "id": "87ef2fcb",
   "metadata": {
    "vscode": {
     "languageId": "r"
    }
   },
   "outputs": [],
   "source": [
    "url_pattern <- \"https://quotes.toscrape.com/page/%d\"\n",
    "urls <- sprintf(url_pattern, 1:10)\n",
    "\n",
    "header <- c(\"citacao\", \"autor\")\n",
    "writeLines(paste(header, collapse = \";\"), file_conn, sep = \"\\n\")\n",
    "\n",
    "for(url in urls) {\n",
    "  html <- rvest::read_html(url)\n",
    "\n",
    "  quotes <- html |>\n",
    "    rvest::html_nodes(\".text\") |>\n",
    "    rvest::html_text()\n",
    "\n",
    "\n",
    "  authors <- html |>\n",
    "    rvest::html_nodes(\".author\") |>\n",
    "    rvest::html_text()\n",
    "\n",
    "  writeLines(paste0(quotes, \";\", authors, collapse = \"\\n\"), file_conn, sep = \"\")\n",
    "  Sys.sleep(1)\n",
    "}"
   ]
  },
  {
   "cell_type": "code",
   "execution_count": 6,
   "id": "d6e73dfb",
   "metadata": {
    "vscode": {
     "languageId": "r"
    }
   },
   "outputs": [],
   "source": [
    "close(file_conn)"
   ]
  },
  {
   "cell_type": "code",
   "execution_count": 7,
   "id": "720333ab",
   "metadata": {
    "vscode": {
     "languageId": "r"
    }
   },
   "outputs": [],
   "source": [
    "html <- rvest::read_html(\"https://quotes.toscrape.com/search.aspx\")\n",
    "\n",
    "hidden_inputs <- html |>\n",
    "  rvest::html_nodes(\"input[type='hidden']\") |>\n",
    "  (\\(x) setNames(\n",
    "    rvest::html_attr(x, \"value\"),\n",
    "    rvest::html_attr(x, \"name\")\n",
    "  ))()\n",
    "\n",
    "response <- httr::POST(\n",
    "  url = \"https://quotes.toscrape.com/filter.aspx\",\n",
    "  httr::add_headers(\n",
    "    `Content-Type` = \"application/x-www-form-urlencoded\"\n",
    "  ),\n",
    "  body = list(\n",
    "    author = \"Haruki Murakami\",\n",
    "    tag = \"thought\",\n",
    "    `__VIEWSTATE` = hidden_inputs[\"__VIEWSTATE\"]\n",
    "  ),\n",
    "  encode = \"form\"\n",
    ")"
   ]
  },
  {
   "cell_type": "code",
   "execution_count": 8,
   "id": "e95843ea",
   "metadata": {
    "vscode": {
     "languageId": "r"
    }
   },
   "outputs": [
    {
     "data": {
      "text/html": [
       "'“If you only read the books that everyone else is reading, you can only think what everyone else is thinking.”'"
      ],
      "text/latex": [
       "'“If you only read the books that everyone else is reading, you can only think what everyone else is thinking.”'"
      ],
      "text/markdown": [
       "'“If you only read the books that everyone else is reading, you can only think what everyone else is thinking.”'"
      ],
      "text/plain": [
       "[1] \"“If you only read the books that everyone else is reading, you can only think what everyone else is thinking.”\""
      ]
     },
     "metadata": {},
     "output_type": "display_data"
    }
   ],
   "source": [
    "quotes <- response |>\n",
    "  rvest::read_html() |>\n",
    "  rvest::html_nodes(\".quote .content\") |>\n",
    "  rvest::html_text()\n",
    "\n",
    "quotes"
   ]
  },
  {
   "cell_type": "code",
   "execution_count": 78,
   "id": "b69e9df7",
   "metadata": {
    "vscode": {
     "languageId": "r"
    }
   },
   "outputs": [
    {
     "name": "stdout",
     "output_type": "stream",
     "text": [
      "[1] \"Albert Einstein\"\n",
      "character(0)\n",
      "[1] \"J.K. Rowling\"\n",
      "character(0)\n",
      "[1] \"Jane Austen\"\n",
      "character(0)\n",
      "[1] \"Marilyn Monroe\"\n",
      "character(0)\n",
      "[1] \"André Gide\"\n",
      "character(0)\n",
      "[1] \"Thomas A. Edison\"\n",
      "character(0)\n",
      "[1] \"Eleanor Roosevelt\"\n",
      "character(0)\n",
      "[1] \"Steve Martin\"\n",
      "character(0)\n",
      "[1] \"Bob Marley\"\n",
      "character(0)\n",
      "[1] \"Dr. Seuss\"\n",
      "character(0)\n",
      "[1] \"Douglas Adams\"\n",
      "character(0)\n",
      "[1] \"Elie Wiesel\"\n",
      "character(0)\n",
      "[1] \"Friedrich Nietzsche\"\n",
      "character(0)\n",
      "[1] \"Mark Twain\"\n",
      "character(0)\n",
      "[1] \"Allen Saunders\"\n",
      "character(0)\n",
      "[1] \"Pablo Neruda\"\n",
      "character(0)\n",
      "[1] \"Ralph Waldo Emerson\"\n",
      "character(0)\n",
      "[1] \"Mother Teresa\"\n",
      "character(0)\n",
      "[1] \"Garrison Keillor\"\n",
      "character(0)\n",
      "[1] \"Jim Henson\"\n",
      "character(0)\n",
      "[1] \"Charles M. Schulz\"\n",
      "character(0)\n",
      "[1] \"William Nicholson\"\n",
      "character(0)\n",
      "[1] \"Jorge Luis Borges\"\n",
      "character(0)\n",
      "[1] \"George Eliot\"\n",
      "character(0)\n",
      "[1] \"George R.R. Martin\"\n",
      "character(0)\n",
      "[1] \"C.S. Lewis\"\n",
      "character(0)\n",
      "[1] \"Martin Luther King Jr.\"\n",
      "character(0)\n",
      "[1] \"James Baldwin\"\n",
      "character(0)\n",
      "[1] \"Haruki Murakami\"\n",
      "character(0)\n",
      "[1] \"Alexandre Dumas fils\"\n",
      "character(0)\n",
      "[1] \"Stephenie Meyer\"\n",
      "character(0)\n",
      "[1] \"Ernest Hemingway\"\n",
      "character(0)\n",
      "[1] \"Helen Keller\"\n",
      "character(0)\n",
      "[1] \"George Bernard Shaw\"\n",
      "character(0)\n",
      "[1] \"Charles Bukowski\"\n",
      "character(0)\n",
      "[1] \"Suzanne Collins\"\n",
      "character(0)\n",
      "[1] \"J.R.R. Tolkien\"\n",
      "character(0)\n",
      "[1] \"Alfred Tennyson\"\n",
      "character(0)\n",
      "[1] \"Terry Pratchett\"\n",
      "character(0)\n",
      "[1] \"J.D. Salinger\"\n",
      "character(0)\n",
      "[1] \"George Carlin\"\n",
      "character(0)\n",
      "[1] \"John Lennon\"\n",
      "character(0)\n",
      "[1] \"W.C. Fields\"\n",
      "character(0)\n",
      "[1] \"Jimi Hendrix\"\n",
      "character(0)\n",
      "[1] \"J.M. Barrie\"\n",
      "character(0)\n",
      "[1] \"E.E. Cummings\"\n",
      "character(0)\n",
      "[1] \"Khaled Hosseini\"\n",
      "character(0)\n",
      "[1] \"Harper Lee\"\n",
      "character(0)\n",
      "[1] \"Madeleine L'Engle\"\n",
      "character(0)\n"
     ]
    }
   ],
   "source": [
    "html <- rvest::read_html(\"https://quotes.toscrape.com/search.aspx\")\n",
    "\n",
    "authors <- html |>\n",
    "  rvest::html_nodes(\"#author option\") |>\n",
    "  rvest::html_attr(\"value\")\n",
    "\n",
    "authors <- Filter(\\(x) !is.na(x), authors)\n",
    "\n",
    "hidden_inputs <- html |>\n",
    "  rvest::html_nodes(\"input[type='hidden']\") |>\n",
    "  (\\(x) setNames(\n",
    "    rvest::html_attr(x, \"value\"),\n",
    "    rvest::html_attr(x, \"name\")\n",
    "  ))()\n",
    "\n",
    "for(author in authors) {\n",
    "\n",
    "  print(author)\n",
    "  response <- httr::POST(\n",
    "    url = \"https://quotes.toscrape.com/filter.aspx\",\n",
    "    httr::add_headers(\n",
    "      `Content-Type` = \"application/x-www-form-urlencoded\"\n",
    "    ),\n",
    "    body = list(\n",
    "      author = author,\n",
    "      `__VIEWSTATE` = hidden_inputs[\"__VIEWSTATE\"]\n",
    "    ),\n",
    "    encode = \"form\"\n",
    "  )\n",
    "\n",
    "  quotes <- response |>\n",
    "    rvest::read_html() |>\n",
    "    rvest::html_nodes(\".quote .content\") |>\n",
    "    rvest::html_text()\n",
    "\n",
    "\n",
    "  print(quotes)\n",
    "  quotes <- Filter(\\(x) !identical(x, character(0)), quotes)\n",
    "\n",
    "  #print(quotes)\n",
    "}"
   ]
  },
  {
   "cell_type": "code",
   "execution_count": 73,
   "id": "4d4a8dc2",
   "metadata": {
    "vscode": {
     "languageId": "r"
    }
   },
   "outputs": [
    {
     "data": {
      "text/html": [],
      "text/latex": [],
      "text/markdown": [],
      "text/plain": [
       "character(0)"
      ]
     },
     "metadata": {},
     "output_type": "display_data"
    }
   ],
   "source": [
    "quotes"
   ]
  },
  {
   "cell_type": "code",
   "execution_count": null,
   "id": "d9a0d83d",
   "metadata": {
    "vscode": {
     "languageId": "r"
    }
   },
   "outputs": [],
   "source": []
  }
 ],
 "metadata": {
  "kernelspec": {
   "display_name": "R",
   "language": "R",
   "name": "ir"
  },
  "language_info": {
   "codemirror_mode": "r",
   "file_extension": ".r",
   "mimetype": "text/x-r-source",
   "name": "R",
   "pygments_lexer": "r",
   "version": "4.3.1"
  }
 },
 "nbformat": 4,
 "nbformat_minor": 5
}
